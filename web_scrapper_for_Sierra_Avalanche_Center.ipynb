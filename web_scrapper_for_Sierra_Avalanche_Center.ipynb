{
  "nbformat": 4,
  "nbformat_minor": 0,
  "metadata": {
    "colab": {
      "provenance": [],
      "authorship_tag": "ABX9TyMk1nmPksTinsdF21Qv5dhK",
      "include_colab_link": true
    },
    "kernelspec": {
      "name": "python3",
      "display_name": "Python 3"
    },
    "language_info": {
      "name": "python"
    }
  },
  "cells": [
    {
      "cell_type": "markdown",
      "metadata": {
        "id": "view-in-github",
        "colab_type": "text"
      },
      "source": [
        "<a href=\"https://colab.research.google.com/github/chenowitz/OpenAvalancheProject/blob/sierra_avalanche_center_data/web_scrapper_for_Sierra_Avalanche_Center.ipynb\" target=\"_parent\"><img src=\"https://colab.research.google.com/assets/colab-badge.svg\" alt=\"Open In Colab\"/></a>"
      ]
    },
    {
      "cell_type": "code",
      "execution_count": 1,
      "metadata": {
        "id": "9LlgRUHaK549"
      },
      "outputs": [],
      "source": [
        "import requests\n",
        "from bs4 import BeautifulSoup\n",
        "import sqlite3\n",
        "\n",
        "# Connect to SQLite database\n",
        "conn = sqlite3.connect('avalanche.db')\n",
        "c = conn.cursor()\n",
        "\n",
        "# Create table for avalanche forecasts\n",
        "c.execute('''CREATE TABLE IF NOT EXISTS avalanche_forecasts\n",
        "             (date text, danger_rating text, description text)''')\n",
        "\n",
        "# URL for Sierra avalanche website\n",
        "url = 'https://www.sierraavalanchecenter.org/avalanche-forecast'\n",
        "\n",
        "# Make request to website and parse HTML with BeautifulSoup\n",
        "r = requests.get(url)\n",
        "soup = BeautifulSoup(r.content, 'html.parser')\n",
        "\n",
        "# Find all past avalanche forecasts on the website\n",
        "forecasts = soup.find_all('div', {'class': 'forecast'})\n",
        "\n",
        "# Loop through forecasts and insert into database\n",
        "for forecast in forecasts:\n",
        "    date = forecast.find('h4').text.strip()\n",
        "    danger_rating = forecast.find('h5').text.strip()\n",
        "    description = forecast.find('div', {'class': 'field-items'}).text.strip()\n",
        "    c.execute('INSERT INTO avalanche_forecasts VALUES (?, ?, ?)', (date, danger_rating, description))\n",
        "\n",
        "# Commit changes to database and close connection\n",
        "conn.commit()\n",
        "conn.close()\n"
      ]
    },
    {
      "cell_type": "code",
      "source": [
        "# Database query\n",
        "conn = sqlite3.connect('avalanche.db')\n",
        "r_set=conn.execute('''select name from sqlite_master \n",
        "\t\twhere type = 'table' ''')\n",
        "for row in r_set:\n",
        "    print(row)\n"
      ],
      "metadata": {
        "colab": {
          "base_uri": "https://localhost:8080/"
        },
        "id": "ckf7dEU-LCQs",
        "outputId": "21db10af-07f4-4098-f8ac-9dab13c33914"
      },
      "execution_count": 12,
      "outputs": [
        {
          "output_type": "stream",
          "name": "stdout",
          "text": [
            "('avalanche_forecasts',)\n"
          ]
        }
      ]
    },
    {
      "cell_type": "code",
      "source": [
        "from bs4 import SoupStrainer\n",
        "import re\n",
        "\n",
        "# 1. Go the the forecast archive prior to Jan 6th\n",
        "url = 'https://www.sierraavalanchecenter.org/prior-jan-6-2021/archive'\n",
        "\n",
        "# Source: https://www.appsloveworld.com/php/1947/get-beautifulsoup-to-correctly-parse-php-tags-or-ignore-them\n",
        "# php_sig = '!!!PHP!!!'\n",
        "# php_elements = []\n",
        "\n",
        "# def php_remove(m):\n",
        "#     php_elements.append(m.group())\n",
        "#     return php_sig\n",
        "\n",
        "# def php_add(m):\n",
        "#     return php_elements.pop(0)\n",
        "\n",
        "# # Pre-parse HTML to remove all PHP elements\n",
        "# html = \"<html>\"\n",
        "# html = re.sub(r'<\\?php.*?\\?>', php_remove, html, flags=re.S+re.M)\n",
        "\n",
        "# # soup = BeautifulSoup(html, \"html.parser\")\n",
        "\n",
        "# # Make modifications to the soup\n",
        "# # Do not remove any elements containing PHP elements\n",
        "\n",
        "# # Post-parse HTML to replace the PHP elements\n",
        "# # html = re.sub(php_sig, php_add, soup.prettify())\n",
        "\n",
        "# # print(html)\n",
        "\n",
        "# Make request to website and parse HTML with BeautifulSoup\n",
        "r = requests.get(url)\n",
        "soup = BeautifulSoup(r.content, 'html.parser',  parse_only=SoupStrainer('td', 'views-field views-field-title active' ))\n",
        "links = soup.findAll('a')\n",
        "# https://www.sierraavalanchecenter.org/advisory/2021/jan/8/2021-01-08-065831-avalanche-forecast\n",
        "\n",
        "individual_forecast_links = []\n",
        "for link in links:\n",
        "  href = link.get(\"href\")\n",
        "  if not \".php\" in href:\n",
        "    individual_forecast_links.append(\"https://www.sierraavalanchecenter.org\"+href)\n",
        "    # print(\"https://www.sierraavalanchecenter.org\"+href)\n",
        "# 2. Amass a list of links\n",
        "for link in individual_forecast_links:\n",
        "  print(link)"
      ],
      "metadata": {
        "colab": {
          "base_uri": "https://localhost:8080/"
        },
        "id": "_VcJ05X9Oo5L",
        "outputId": "5c1af3cb-b8c4-4a1e-9015-e1158b7e8db4"
      },
      "execution_count": 47,
      "outputs": [
        {
          "output_type": "stream",
          "name": "stdout",
          "text": [
            "https://www.sierraavalanchecenter.org/advisory/2021/jan/8/2021-01-08-065831-avalanche-forecast\n",
            "https://www.sierraavalanchecenter.org/advisory/2021/jan/6/2021-01-06-065943-avalanche-forecast\n",
            "https://www.sierraavalanchecenter.org/advisory/2021/jan/5/2021-01-05-065912-avalanche-forecast\n",
            "https://www.sierraavalanchecenter.org/advisory/2021/jan/4/2021-01-04-065402-avalanche-forecast\n",
            "https://www.sierraavalanchecenter.org/advisory/2021/jan/3/2021-01-03-065723-avalanche-forecast\n",
            "https://www.sierraavalanchecenter.org/advisory/2021/jan/2/2021-01-02-065827-avalanche-forecast\n",
            "https://www.sierraavalanchecenter.org/advisory/2020/dec/31/2020-12-31-065918-avalanche-forecast\n",
            "https://www.sierraavalanchecenter.org/advisory/2020/dec/30/2020-12-30-065927-avalanche-forecast\n",
            "https://www.sierraavalanchecenter.org/advisory/2020/dec/29/2020-12-29-065808-avalanche-forecast\n",
            "https://www.sierraavalanchecenter.org/advisory/2020/dec/28/2020-12-28-065908-avalanche-forecast\n",
            "https://www.sierraavalanchecenter.org/advisory/2020/dec/27/2020-12-27-065903-avalanche-forecast\n",
            "https://www.sierraavalanchecenter.org/advisory/2020/dec/26/2020-12-26-070042-avalanche-forecast\n",
            "https://www.sierraavalanchecenter.org/advisory/2020/dec/24/2020-12-24-070035-avalanche-forecast\n",
            "https://www.sierraavalanchecenter.org/advisory/2020/dec/23/2020-12-23-065837-avalanche-forecast\n",
            "https://www.sierraavalanchecenter.org/advisory/2020/dec/22/2020-12-22-065334-avalanche-forecast\n",
            "https://www.sierraavalanchecenter.org/advisory/2020/dec/21/2020-12-21-065509-avalanche-forecast\n",
            "https://www.sierraavalanchecenter.org/advisory/2020/dec/20/2020-12-20-065502-avalanche-forecast\n",
            "https://www.sierraavalanchecenter.org/advisory/2020/dec/19/2020-12-19-065931-avalanche-forecast\n",
            "https://www.sierraavalanchecenter.org/advisory/2020/dec/18/2020-12-18-070051-avalanche-forecast\n",
            "https://www.sierraavalanchecenter.org/advisory/2020/dec/17/2020-12-17-065932-avalanche-forecast\n",
            "https://www.sierraavalanchecenter.org/advisory/2020/dec/16/2020-12-16-065426-avalanche-forecast\n",
            "https://www.sierraavalanchecenter.org/advisory/2020/dec/15/2020-12-15-065444-avalanche-forecast\n",
            "https://www.sierraavalanchecenter.org/advisory/2020/dec/14/2020-12-14-065006-avalanche-forecast\n",
            "https://www.sierraavalanchecenter.org/advisory/2020/dec/13/2020-12-13-070003-avalanche-forecast\n",
            "https://www.sierraavalanchecenter.org/advisory/2020/dec/12/2020-12-12-070010-avalanche-forecast\n",
            "https://www.sierraavalanchecenter.org/advisory/2020/dec/11/2020-12-11-065128-avalanche-forecast\n",
            "https://www.sierraavalanchecenter.org/advisory/2020/dec/10/2020-12-10-065935-avalanche-forecast\n",
            "https://www.sierraavalanchecenter.org/advisory/2020/dec/9/2020-12-09-064800-avalanche-forecast\n",
            "https://www.sierraavalanchecenter.org/advisory/2020/dec/8/2020-12-08-065028-avalanche-forecast\n",
            "https://www.sierraavalanchecenter.org/advisory/2020/dec/7/2020-12-07-065501-avalanche-forecast\n",
            "https://www.sierraavalanchecenter.org/advisory/2020/dec/6/2020-12-06-065610-avalanche-forecast\n",
            "https://www.sierraavalanchecenter.org/advisory/2020/dec/5/2020-12-05-064951-avalanche-forecast\n",
            "https://www.sierraavalanchecenter.org/advisory/2020/dec/4/2020-12-04-064801-avalanche-forecast\n",
            "https://www.sierraavalanchecenter.org/advisory/2020/dec/3/2020-12-03-064846-avalanche-forecast\n",
            "https://www.sierraavalanchecenter.org/advisory/2020/dec/2/2020-12-02-064918-avalanche-forecast\n",
            "https://www.sierraavalanchecenter.org/advisory/2020/dec/1/2020-12-01-065022-avalanche-forecast\n",
            "https://www.sierraavalanchecenter.org/advisory/2020/nov/30/2020-11-30-065101-avalanche-forecast\n",
            "https://www.sierraavalanchecenter.org/advisory/2020/nov/29/2020-11-29-065019-avalanche-forecast\n",
            "https://www.sierraavalanchecenter.org/advisory/2020/nov/28/2020-11-28-065101-avalanche-forecast\n",
            "https://www.sierraavalanchecenter.org/advisory/2020/nov/27/2020-11-27-064815-avalanche-forecast\n",
            "https://www.sierraavalanchecenter.org/advisory/2020/nov/25/2020-11-25-065040-avalanche-forecast\n",
            "https://www.sierraavalanchecenter.org/advisory/2020/nov/24/2020-11-24-065236-avalanche-forecast\n",
            "https://www.sierraavalanchecenter.org/advisory/2020/nov/23/2020-11-23-065208-avalanche-forecast\n",
            "https://www.sierraavalanchecenter.org/advisory/2020/nov/22/2020-11-22-065905-avalanche-forecast\n",
            "https://www.sierraavalanchecenter.org/advisory/2020/nov/21/2020-11-21-065521-avalanche-forecast\n",
            "https://www.sierraavalanchecenter.org/advisory/2020/nov/20/2020-11-20-065331-avalanche-forecast\n",
            "https://www.sierraavalanchecenter.org/advisory/2020/nov/19/2020-11-19-070000-avalanche-forecast\n",
            "https://www.sierraavalanchecenter.org/advisory/2020/nov/18/2020-11-18-065906-avalanche-forecast\n",
            "https://www.sierraavalanchecenter.org/advisory/2020/nov/14/2020-11-14-065006-avalanche-forecast\n",
            "https://www.sierraavalanchecenter.org/advisory/2020/nov/8/2020-11-08-070310-avalanche-forecast\n",
            "https://www.sierraavalanchecenter.org/advisory/2020/oct/27/2020-10-27-095046-avalanche-forecast\n",
            "https://www.sierraavalanchecenter.org/advisory/2020/may/4/2020-05-04-062724-avalanche-forecast\n",
            "https://www.sierraavalanchecenter.org/advisory/2020/may/3/2020-05-03-064824-avalanche-forecast\n",
            "https://www.sierraavalanchecenter.org/advisory/2020/may/2/2020-05-02-065414-avalanche-forecast\n",
            "https://www.sierraavalanchecenter.org/advisory/2020/may/1/2020-05-01-064555-avalanche-forecast\n",
            "https://www.sierraavalanchecenter.org/advisory/2020/apr/30/2020-04-30-064659-avalanche-forecast\n",
            "https://www.sierraavalanchecenter.org/advisory/2020/apr/29/2020-04-29-064000-avalanche-forecast\n",
            "https://www.sierraavalanchecenter.org/advisory/2020/apr/28/2020-04-28-064718-avalanche-forecast\n",
            "https://www.sierraavalanchecenter.org/advisory/2020/apr/27/2020-04-27-070011-avalanche-forecast\n",
            "https://www.sierraavalanchecenter.org/advisory/2020/apr/26/2020-04-26-065113-avalanche-forecast\n",
            "https://www.sierraavalanchecenter.org/advisory/2020/apr/25/2020-04-25-065939-avalanche-forecast\n",
            "https://www.sierraavalanchecenter.org/advisory/2020/apr/24/2020-04-24-065546-avalanche-forecast\n",
            "https://www.sierraavalanchecenter.org/advisory/2020/apr/23/2020-04-23-065528-avalanche-forecast\n",
            "https://www.sierraavalanchecenter.org/advisory/2020/apr/22/2020-04-22-064203-avalanche-forecast\n",
            "https://www.sierraavalanchecenter.org/advisory/2020/apr/21/2020-04-21-064903-avalanche-forecast\n",
            "https://www.sierraavalanchecenter.org/advisory/2020/apr/20/2020-04-20-065711-avalanche-forecast\n",
            "https://www.sierraavalanchecenter.org/advisory/2020/apr/19/2020-04-19-070057-avalanche-forecast\n",
            "https://www.sierraavalanchecenter.org/advisory/2020/apr/18/2020-04-18-070002-avalanche-forecast\n",
            "https://www.sierraavalanchecenter.org/advisory/2020/apr/17/2020-04-17-065927-avalanche-forecast\n",
            "https://www.sierraavalanchecenter.org/advisory/2020/apr/16/2020-04-16-065628-avalanche-forecast\n",
            "https://www.sierraavalanchecenter.org/advisory/2020/apr/15/2020-04-15-064601-avalanche-forecast\n",
            "https://www.sierraavalanchecenter.org/advisory/2020/apr/14/2020-04-14-064504-avalanche-forecast\n",
            "https://www.sierraavalanchecenter.org/advisory/2020/apr/13/2020-04-13-065848-avalanche-forecast\n",
            "https://www.sierraavalanchecenter.org/advisory/2020/apr/12/2020-04-12-070029-avalanche-forecast\n",
            "https://www.sierraavalanchecenter.org/advisory/2020/apr/11/2020-04-11-072704-avalanche-forecast\n",
            "https://www.sierraavalanchecenter.org/advisory/2020/apr/10/2020-04-10-070047-avalanche-forecast\n",
            "https://www.sierraavalanchecenter.org/advisory/2020/apr/9/2020-04-09-070052-avalanche-forecast\n",
            "https://www.sierraavalanchecenter.org/advisory/2020/apr/8/2020-04-08-065803-avalanche-forecast\n",
            "https://www.sierraavalanchecenter.org/advisory/2020/apr/7/2020-04-07-065503-avalanche-forecast\n",
            "https://www.sierraavalanchecenter.org/advisory/2020/apr/6/2020-04-06-065948-avalanche-forecast\n",
            "https://www.sierraavalanchecenter.org/advisory/2020/apr/5/2020-04-05-065912-avalanche-forecast\n",
            "https://www.sierraavalanchecenter.org/advisory/2020/apr/4/2020-04-04-065822-avalanche-forecast\n",
            "https://www.sierraavalanchecenter.org/advisory/2020/apr/3/2020-04-03-070003-avalanche-forecast\n",
            "https://www.sierraavalanchecenter.org/advisory/2020/apr/2/2020-04-02-065955-avalanche-forecast\n",
            "https://www.sierraavalanchecenter.org/advisory/2020/apr/1/2020-04-01-065911-avalanche-forecast\n",
            "https://www.sierraavalanchecenter.org/advisory/2020/mar/31/2020-03-31-065807-avalanche-forecast\n",
            "https://www.sierraavalanchecenter.org/advisory/2020/mar/30/2020-03-30-065955-avalanche-forecast\n",
            "https://www.sierraavalanchecenter.org/advisory/2020/mar/29/2020-03-29-070010-avalanche-forecast\n",
            "https://www.sierraavalanchecenter.org/advisory/2020/mar/28/2020-03-28-070022-avalanche-forecast\n",
            "https://www.sierraavalanchecenter.org/advisory/2020/mar/27/2020-03-27-070041-avalanche-forecast\n",
            "https://www.sierraavalanchecenter.org/advisory/2020/mar/26/2020-03-26-070036-avalanche-forecast\n",
            "https://www.sierraavalanchecenter.org/advisory/2020/mar/25/2020-03-25-065101-avalanche-forecast\n",
            "https://www.sierraavalanchecenter.org/advisory/2020/mar/24/2020-03-24-065700-avalanche-forecast\n",
            "https://www.sierraavalanchecenter.org/advisory/2020/mar/23/2020-03-23-065914-avalanche-forecast\n",
            "https://www.sierraavalanchecenter.org/advisory/2020/mar/22/2020-03-22-070359-avalanche-forecast\n",
            "https://www.sierraavalanchecenter.org/advisory/2020/mar/21/2020-03-21-065652-avalanche-forecast\n",
            "https://www.sierraavalanchecenter.org/advisory/2020/mar/20/2020-03-20-070104-avalanche-forecast\n",
            "https://www.sierraavalanchecenter.org/advisory/2020/mar/19/2020-03-19-070038-avalanche-forecast\n",
            "https://www.sierraavalanchecenter.org/advisory/2020/mar/18/2020-03-18-070027-avalanche-forecast\n",
            "https://www.sierraavalanchecenter.org/advisory/2020/mar/17/2020-03-17-070054-avalanche-forecast\n"
          ]
        }
      ]
    },
    {
      "cell_type": "code",
      "source": [
        "# Scrap for the words avalanche problem:\n",
        "# def find_avalanche_problem_block(url):\n",
        "test_urls = [\"https://www.sierraavalanchecenter.org/advisory/2021/jan/8/2021-01-08-065831-avalanche-forecast\", \"https://www.sierraavalanchecenter.org/forecasts/?collapsethemenu=yes#/forecast/1/124600\"]\n",
        "for test_url in test_urls:\n",
        "  r = requests.get(test_url)\n",
        "  soup = BeautifulSoup(r.content, 'html.parser')\n",
        "  links = soup.findAll(string = re.compile('Avalanche Problem'))\n",
        "  # TODO: Make avalanche problem search case agnostic\n",
        "  print(links)"
      ],
      "metadata": {
        "colab": {
          "base_uri": "https://localhost:8080/"
        },
        "id": "m8a2oANpiNhy",
        "outputId": "d1049d69-d508-46d9-dc50-7ac24050dc31"
      },
      "execution_count": 54,
      "outputs": [
        {
          "output_type": "stream",
          "name": "stdout",
          "text": [
            "['Avalanche Problems Explained', 'Avalanche Problems Explained', 'Avalanche Problem 1: Wind Slab', 'Avalanche Problem 2: Persistent Slab']\n",
            "['Avalanche Problems Explained', 'Avalanche Problems Explained']\n"
          ]
        }
      ]
    },
    {
      "cell_type": "markdown",
      "source": [
        "TODO: \n",
        "- Spend some time learning about the findAll tags\n",
        "- Spend some time reading about re and regex"
      ],
      "metadata": {
        "id": "3-ougFHplw0L"
      }
    }
  ]
}